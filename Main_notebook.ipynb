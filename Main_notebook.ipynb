{
 "cells": [
  {
   "cell_type": "raw",
   "metadata": {
    "pycharm": {
     "name": ""
    }
   },
   "source": [
    "Lets start with importing some stuff."
   ]
  },
  {
   "cell_type": "code",
   "execution_count": 132,
   "metadata": {
    "ExecuteTime": {
     "end_time": "2023-06-09T21:23:37.011115Z",
     "start_time": "2023-06-09T21:23:36.990779Z"
    }
   },
   "outputs": [
    {
     "name": "stdout",
     "output_type": "stream",
     "text": [
      "Everything imported OK\n"
     ]
    }
   ],
   "source": [
    "import subprocess\n",
    "import csv\n",
    "import re\n",
    "import os\n",
    "from os import listdir\n",
    "from os.path import isfile, join\n",
    "\n",
    "import numpy as np\n",
    "import pandas as pd\n",
    "from sklearn.datasets import load_files  # efficiently load files\n",
    "\n",
    "try:\n",
    "    import tensorflow as tf\n",
    "except:\n",
    "    print(\"No tensorflow installed, make sure you have it installled!\")\n",
    "\n",
    "try:\n",
    "    from keras.layers import Input, Conv2D, MaxPooling2D, Dense, GlobalAveragePooling2D, Dropout\n",
    "    from keras.layers import Activation, Flatten\n",
    "    from keras.models import  Sequential\n",
    "    from keras import Model, optimizers\n",
    "except:\n",
    "    print(\"No keras installed, installing keras right now\")\n",
    "    subprocess.call(['pip', 'install', \"keras\"])\n",
    "    from keras.layers import Input, Conv2D, MaxPooling2D, Dense, GlobalAveragePooling2D, Dropout\n",
    "    from keras.layers import Activation, Flatten\n",
    "    from keras.models import  Sequential\n",
    "    from keras import Model, optimizers\n",
    "\n",
    "try:\n",
    "    from tensorflow.keras.applications.resnet50 import ResNet50\n",
    "except:\n",
    "    print(\"No keras.applications installed, installing keras.applications right now\")\n",
    "    subprocess.call(['pip', 'install', \"keras_applications\"])\n",
    "    from tensorflow.keras.applications.resnet50 import ResNet50\n",
    "\n",
    "try:\n",
    "    import seaborn as sns\n",
    "except:\n",
    "    print(\"No seaborn installed, installing seaborn right now\")\n",
    "    subprocess.call(['pip', 'install', \"seaborn\"])\n",
    "    import seaborn as sns\n",
    "\n",
    "from keras.preprocessing import image  # for image preprocessing\n",
    "import matplotlib.pyplot as plt # for visualization\n",
    "try:\n",
    "    import plotly.express as px\n",
    "    import plotly.graph_objects as go\n",
    "    from plotly.subplots import make_subplots\n",
    "except:\n",
    "    print(\"No plotly installed, installing plotly right now\")\n",
    "    subprocess.call(['pip', 'install', \"plotly\"])\n",
    "    import plotly.express as px\n",
    "    import plotly.graph_objects as go\n",
    "    from plotly.subplots import make_subplots\n",
    "\n",
    "from PIL import Image\n",
    "print(\"Everything imported OK\")"
   ]
  },
  {
   "cell_type": "markdown",
   "metadata": {},
   "source": [
    "We will start with two functions: One to get the ID of each image and one to find the index of each image of the training set. In this function, we have some folder named data containing the images and the csv file. We store all the images in the variable images, the IDs are the IDs of the images (the number after img_) and labels contain the id with the respective labels. trainIndex then is the images ID that correspond to the labels.csv."
   ]
  },
  {
   "cell_type": "code",
   "execution_count": 143,
   "metadata": {
    "ExecuteTime": {
     "end_time": "2023-06-09T21:31:26.010204Z",
     "start_time": "2023-06-09T21:31:25.987885Z"
    }
   },
   "outputs": [],
   "source": [
    "def getImageID(imageList):\n",
    "    ID = []\n",
    "    for i in imageList:\n",
    "        ID.append(re.findall(\"\\d{1,}\", i))\n",
    "    return ID\n",
    "\n",
    "def getTrainIndex(IDs,labelsId):\n",
    "   index = []\n",
    "   for labeled in labelsId:\n",
    "       for IDindex, ID in enumerate(IDs):\n",
    "           if str(labeled) == ID[0]:\n",
    "               index.append(IDindex)\n",
    "   return index\n",
    "\n",
    "localPath = os.getcwd()\n",
    "dataPath = localPath +\"\\data\\\\\"\n",
    "\n",
    "images = [f for f in listdir(dataPath) if isfile(join(dataPath, f))]\n",
    "del images[-1]\n",
    "\n",
    "IDs = getImageID(images)\n",
    "labels = pd.read_csv(dataPath+\"\\labels.csv\")\n",
    "trainIndex = getTrainIndex(IDs,labels.id)"
   ]
  },
  {
   "cell_type": "markdown",
   "metadata": {},
   "source": [
    "Great, so we have the images. Not all images are the same size however, lets find the maximum image size so we know how much we need to pad the images."
   ]
  },
  {
   "cell_type": "code",
   "execution_count": 162,
   "metadata": {
    "ExecuteTime": {
     "end_time": "2023-06-09T21:46:29.590423Z",
     "start_time": "2023-06-09T21:46:29.561160Z"
    }
   },
   "outputs": [
    {
     "name": "stdout",
     "output_type": "stream",
     "text": [
      "Maximum image size will be: [896. 896.]\n"
     ]
    }
   ],
   "source": [
    " imageSize = np.zeros(2)\n",
    "for image in images:\n",
    "    im = Image.open(dataPath+image)\n",
    "    if imageSize[0] < im.size[0]:\n",
    "        imageSize[0] = im.size[0]\n",
    "    if imageSize[1] < im.size[1]:\n",
    "        imageSize[1] = im.size[1]\n",
    "print(\"Maximum image size will be: \"+ str(imageSize))"
   ]
  },
  {
   "cell_type": "markdown",
   "metadata": {},
   "source": [
    "Now we know what the maximum size will be, lets pad all the images to our desired dimensions"
   ]
  },
  {
   "cell_type": "code",
   "execution_count": 168,
   "metadata": {
    "ExecuteTime": {
     "end_time": "2023-06-09T21:49:57.796989Z",
     "start_time": "2023-06-09T21:49:45.970853Z"
    }
   },
   "outputs": [],
   "source": [
    "def add_margin(pil_img, top, right):\n",
    "    width, height = pil_img.size\n",
    "    new_width = width + right\n",
    "    new_height = height + top\n",
    "    result = Image.new(pil_img.mode, (new_width, new_height), (0, 0, 0))\n",
    "    result.paste(pil_img, (0, top))\n",
    "    return result\n",
    "\n",
    "for image in images:\n",
    "    im = Image.open(dataPath+image)\n",
    "    dWidth =  imageSize[0].astype(int) - im.size[0]\n",
    "    dHeight = imageSize[1].astype(int) - im.size[1]\n",
    "    if dWidth or dHeight:\n",
    "        im = add_margin(im, dHeight,dWidth)\n",
    "    im.save('data_padded/'+image)\n",
    "\n",
    "paddedImages = [f for f in listdir(\"data_padded\") if isfile(join(\"data_padded\", f))]"
   ]
  },
  {
   "cell_type": "code",
   "execution_count": 169,
   "metadata": {
    "ExecuteTime": {
     "end_time": "2023-06-09T21:50:06.013731Z",
     "start_time": "2023-06-09T21:50:05.996868Z"
    }
   },
   "outputs": [
    {
     "name": "stdout",
     "output_type": "stream",
     "text": [
      "['img_103601.png', 'img_105480.png', 'img_112905.png', 'img_118847.png', 'img_125877.png', 'img_131043.png', 'img_133778.png', 'img_133962.png', 'img_135878.png', 'img_136044.png', 'img_139077.png', 'img_145106.png', 'img_150775.png', 'img_156941.png', 'img_157822.png', 'img_172416.png', 'img_175012.png', 'img_185683.png', 'img_186315.png', 'img_186728.png', 'img_215078.png', 'img_217481.png', 'img_229280.png', 'img_238119.png', 'img_240314.png', 'img_243243.png', 'img_243971.png', 'img_245987.png', 'img_248239.png', 'img_251858.png', 'img_255427.png', 'img_257699.png', 'img_279108.png', 'img_28148.png', 'img_289758.png', 'img_291326.png', 'img_292784.png', 'img_292971.png', 'img_295118.png', 'img_296778.png', 'img_298233.png', 'img_303169.png', 'img_308363.png', 'img_310272.png', 'img_314793.png', 'img_321503.png', 'img_322111.png', 'img_33284.png', 'img_333275.png', 'img_341818.png', 'img_346084.png', 'img_347283.png', 'img_35946.png', 'img_359896.png', 'img_367119.png', 'img_367735.png', 'img_371120.png', 'img_376611.png', 'img_37944.png', 'img_38771.png', 'img_39157.png', 'img_39474.png', 'img_395881.png', 'img_405218.png', 'img_405863.png', 'img_407269.png', 'img_422011.png', 'img_422756.png', 'img_433126.png', 'img_433757.png', 'img_439840.png', 'img_441.png', 'img_467694.png', 'img_46784.png', 'img_471401.png', 'img_471984.png', 'img_486254.png', 'img_491249.png', 'img_49868.png', 'img_5042.png', 'img_505739.png', 'img_51083.png', 'img_511419.png', 'img_520490.png', 'img_531231.png', 'img_534691.png', 'img_556033.png', 'img_557108.png', 'img_557633.png', 'img_57613.png', 'img_580376.png', 'img_583497.png', 'img_585360.png', 'img_586222.png', 'img_586391.png', 'img_587220.png', 'img_591760.png', 'img_612835.png', 'img_615166.png', 'img_630916.png', 'img_646642.png', 'img_655750.png', 'img_662528.png', 'img_666409.png', 'img_671361.png', 'img_67212.png', 'img_673711.png', 'img_67507.png', 'img_697673.png', 'img_699534.png', 'img_701568.png', 'img_711348.png', 'img_713071.png', 'img_714069.png', 'img_714933.png', 'img_724277.png', 'img_727330.png', 'img_731663.png', 'img_732824.png', 'img_734235.png', 'img_739490.png', 'img_741219.png', 'img_74682.png', 'img_74995.png', 'img_754446.png', 'img_755969.png', 'img_757632.png', 'img_765395.png', 'img_76700.png', 'img_769175.png', 'img_777273.png', 'img_779084.png', 'img_779156.png', 'img_78884.png', 'img_789519.png', 'img_791326.png', 'img_791719.png', 'img_792150.png', 'img_799907.png', 'img_801999.png', 'img_802239.png', 'img_810260.png', 'img_812227.png', 'img_819075.png', 'img_820010.png', 'img_831682.png', 'img_837363.png', 'img_839185.png', 'img_841570.png', 'img_846399.png', 'img_848379.png', 'img_848645.png', 'img_848963.png', 'img_861469.png', 'img_863080.png', 'img_868794.png', 'img_869706.png', 'img_87519.png', 'img_877012.png', 'img_879144.png', 'img_885489.png', 'img_900056.png', 'img_901399.png', 'img_906866.png', 'img_912471.png', 'img_914133.png', 'img_918503.png', 'img_930969.png', 'img_931110.png', 'img_931650.png', 'img_93671.png', 'img_93760.png', 'img_94101.png', 'img_945970.png', 'img_950085.png', 'img_955514.png', 'img_957521.png', 'img_959476.png', 'img_965412.png', 'img_968389.png', 'img_97549.png', 'img_976505.png', 'img_98327.png', 'img_984782.png', 'img_996288.png', 'img_997841.png']\n"
     ]
    }
   ],
   "source": [
    "print(paddedImages)"
   ]
  },
  {
   "cell_type": "code",
   "execution_count": null,
   "metadata": {},
   "outputs": [],
   "source": []
  }
 ],
 "metadata": {
  "kernelspec": {
   "display_name": "Python 3 (ipykernel)",
   "language": "python",
   "name": "python3"
  },
  "language_info": {
   "codemirror_mode": {
    "name": "ipython",
    "version": 3
   },
   "file_extension": ".py",
   "mimetype": "text/x-python",
   "name": "python",
   "nbconvert_exporter": "python",
   "pygments_lexer": "ipython3",
   "version": "3.10.10"
  }
 },
 "nbformat": 4,
 "nbformat_minor": 1
}
