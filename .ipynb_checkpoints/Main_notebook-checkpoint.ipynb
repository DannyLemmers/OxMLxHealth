{
 "cells": [
  {
   "cell_type": "raw",
   "metadata": {},
   "source": [
    "Lets start with importing some stuff. We will use imageio to read the images."
   ]
  },
  {
   "cell_type": "code",
   "execution_count": 1,
   "metadata": {
    "ExecuteTime": {
     "end_time": "2023-06-08T11:48:00.394923200Z",
     "start_time": "2023-06-08T11:48:00.246523Z"
    }
   },
   "outputs": [],
   "source": [
    "import imageio as iio\n",
    "import re\n",
    "import os\n",
    "from os import listdir\n",
    "from os.path import isfile, join\n",
    "\n"
   ]
  },
  {
   "cell_type": "code",
   "execution_count": 3,
   "metadata": {
    "ExecuteTime": {
     "end_time": "2023-06-08T11:49:12.501562500Z",
     "start_time": "2023-06-08T11:49:12.480924800Z"
    }
   },
   "outputs": [
    {
     "name": "stdout",
     "output_type": "stream",
     "text": [
      "img_103601.png\n"
     ]
    }
   ],
   "source": [
    "def getImageID(imageList):\n",
    "    ID = []\n",
    "    for i in imageList:\n",
    "        ID.append()\n",
    "\n",
    "\n",
    "\n",
    "localPath = os.getcwd()\n",
    "dataPath = localPath +\"\\data\"\n",
    "\n",
    "images = [f for f in listdir(dataPath) if isfile(join(dataPath, f))]\n",
    "print(images[0])\n",
    "\n",
    "IDs = getImageID(images)\n",
    "#img = iio.imread()\n"
   ]
  },
  {
   "cell_type": "code",
   "execution_count": null,
   "metadata": {},
   "outputs": [],
   "source": []
  }
 ],
 "metadata": {
  "kernelspec": {
   "display_name": "Python 3 (ipykernel)",
   "language": "python",
   "name": "python3"
  },
  "language_info": {
   "codemirror_mode": {
    "name": "ipython",
    "version": 3
   },
   "file_extension": ".py",
   "mimetype": "text/x-python",
   "name": "python",
   "nbconvert_exporter": "python",
   "pygments_lexer": "ipython3",
   "version": "3.10.11"
  }
 },
 "nbformat": 4,
 "nbformat_minor": 1
}
